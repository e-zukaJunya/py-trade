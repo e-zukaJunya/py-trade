{
 "cells": [
  {
   "cell_type": "code",
   "execution_count": null,
   "metadata": {},
   "outputs": [],
   "source": [
    "import csv\n",
    "import io\n",
    "import os\n",
    "\n",
    "import boto3\n",
    "import oracledb\n",
    "\n",
    "# データベース接続情報\n",
    "DB_USER = os.environ.get(\"DB_USER\")\n",
    "DB_PASSWORD = os.environ.get(\"DB_PASSWORD\")\n",
    "DB_HOST = os.environ.get(\"DB_HOST\")\n",
    "DB_PORT = os.environ.get(\"DB_PORT\")\n",
    "DB_SERVICE_NAME = os.environ.get(\"DB_SERVICE_NAME\")\n",
    "print(DB_USER, DB_PASSWORD, DB_HOST, DB_PORT, DB_SERVICE_NAME)\n",
    "\n",
    "# S3接続情報\n",
    "S3_BUCKET = os.environ.get(\"S3_BUCKET\")\n",
    "S3_KEY = os.environ.get(\"S3_KEY\")\n",
    "\n",
    "# データベースに接続\n",
    "dsn = oracledb.makedsn(DB_HOST, DB_PORT, service_name=DB_SERVICE_NAME)\n",
    "connection = oracledb.connect(user=DB_USER, password=DB_PASSWORD, dsn=dsn)"
   ]
  },
  {
   "cell_type": "code",
   "execution_count": null,
   "metadata": {},
   "outputs": [],
   "source": [
    "# カーソルを作成\n",
    "cursor = connection.cursor()\n",
    "\n",
    "# SQLクエリを実行\n",
    "cursor.execute(\"SELECT * FROM m_user\")\n",
    "\n",
    "# メモリ上でCSVデータを生成\n",
    "csv_buffer = io.StringIO()\n",
    "csvwriter = csv.writer(csv_buffer)\n",
    "csvwriter.writerow([desc[0] for desc in cursor.description])  # ヘッダーを書き込む\n",
    "for row in cursor:\n",
    "    csvwriter.writerow(row)"
   ]
  },
  {
   "cell_type": "code",
   "execution_count": null,
   "metadata": {},
   "outputs": [],
   "source": [
    "# S3にアップロード\n",
    "s3_client = boto3.client(\"s3\")\n",
    "s3_client.put_object(Bucket=S3_BUCKET, Key=S3_KEY, Body=csv_buffer.getvalue())\n",
    "\n",
    "print(f\"File uploaded to S3: s3://{S3_BUCKET}/{S3_KEY}\")"
   ]
  }
 ],
 "metadata": {
  "kernelspec": {
   "display_name": "Python 3",
   "language": "python",
   "name": "python3"
  },
  "language_info": {
   "codemirror_mode": {
    "name": "ipython",
    "version": 3
   },
   "file_extension": ".py",
   "mimetype": "text/x-python",
   "name": "python",
   "nbconvert_exporter": "python",
   "pygments_lexer": "ipython3",
   "version": "3.11.9"
  },
  "metadata": {
   "interpreter": {
    "hash": "4cd7ab41f5fca4b9b44701077e38c5ffd31fe66a6cab21e0214b68d958d0e462"
   }
  },
  "orig_nbformat": 2
 },
 "nbformat": 4,
 "nbformat_minor": 2
}
